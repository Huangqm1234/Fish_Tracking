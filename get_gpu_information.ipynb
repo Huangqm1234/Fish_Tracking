{
 "cells": [
  {
   "cell_type": "code",
   "execution_count": null,
   "metadata": {},
   "outputs": [],
   "source": [
    "import subprocess\n",
    "import torch\n",
    "\n",
    "\n",
    "# 获取当前使用的 GPU 编号\n",
    "gpu_id = torch.cuda.current_device()\n",
    "\n",
    "# 使用 nvidia-smi 命令获取 GPU 信息\n",
    "nvidia_smi_command = ['nvidia-smi', '--query-gpu=index,power.draw,power.limit', '--format=csv,noheader,nounits']\n",
    "nvidia_smi_output = subprocess.check_output(nvidia_smi_command).decode('utf-8').strip().split('\\n')\n",
    "\n",
    "# 解析 nvidia-smi 输出，获取当前 GPU 的功率和额定功率\n",
    "for line in nvidia_smi_output:\n",
    "    if line.startswith(str(gpu_id)):\n",
    "        power_info = line.split(',')\n",
    "        power_draw = float(power_info[1])\n",
    "        power_limit = float(power_info[2])\n",
    "        break\n",
    "\n",
    "# 输出正在运行的 GPU 编号、功率和额定功率\n",
    "print(f'Running on GPU {gpu_id}')\n",
    "print(f'Power Draw: {power_draw} W')\n",
    "print(f'Power Limit: {power_limit} W')\n"
   ]
  },
  {
   "cell_type": "code",
   "execution_count": null,
   "metadata": {},
   "outputs": [],
   "source": []
  }
 ],
 "metadata": {
  "kernelspec": {
   "display_name": "env_pytorch_fish",
   "language": "python",
   "name": "python3"
  },
  "language_info": {
   "codemirror_mode": {
    "name": "ipython",
    "version": 3
   },
   "file_extension": ".py",
   "mimetype": "text/x-python",
   "name": "python",
   "nbconvert_exporter": "python",
   "pygments_lexer": "ipython3",
   "version": "3.8.19"
  }
 },
 "nbformat": 4,
 "nbformat_minor": 2
}
